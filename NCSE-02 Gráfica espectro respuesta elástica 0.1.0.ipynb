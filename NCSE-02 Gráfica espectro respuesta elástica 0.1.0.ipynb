{
 "cells": [
  {
   "cell_type": "markdown",
   "metadata": {},
   "source": [
    "# Gráfica del espectro de respuesta elástica\n",
    "# según la norma de Construcción Sismorresistente NCSE-02"
   ]
  },
  {
   "cell_type": "markdown",
   "metadata": {},
   "source": [
    "02-07-2020 Pedro Biel"
   ]
  },
  {
   "cell_type": "markdown",
   "metadata": {},
   "source": [
    "La norma establece un espectro normalizado de respuesta elástica en la superficie libre del terreno, para acciones horizontales, correspondiente a un oscilador lineal simple con un amortiguamiento de referencia del 5 % respecto al crítico, definido por los siguientes valores:\n",
    "\n",
    "$$\n",
    "\\alpha(T) =\n",
    "\\begin{cases}\n",
    "1 + 1,5 · T / T_A & \\quad \\text{si } T < T_A\\\\\n",
    "2,5  & \\quad \\text{si } T_A \\leq T \\leq T_B\\\\\n",
    "K · C / T & \\quad \\text{si } T > T_B\n",
    "\\end{cases}\n",
    "$$\n",
    "\n",
    "Siendo:\n",
    "\n",
    "- $\\alpha(T) \\quad \\quad$ : Valor del espectro normalizado de respuesta elástica\n",
    "- $T \\quad \\quad \\quad$ : Periodo propio del oscilador en segundos\n",
    "- $K \\quad \\quad \\quad$: Coeficiente de contribución\n",
    "- $C \\quad\\quad \\quad$: Coeficiente del terreno\n",
    "- $T_A, T_B \\quad$: Periodos característicos del espectro de respuesta\n",
    "\n",
    "![gráfica](figura_2_2.png \"Espectro de respuesta elástica\")"
   ]
  },
  {
   "cell_type": "markdown",
   "metadata": {},
   "source": [
    "## Librerías"
   ]
  },
  {
   "cell_type": "code",
   "execution_count": 1,
   "metadata": {},
   "outputs": [
    {
     "name": "stdout",
     "output_type": "stream",
     "text": [
      "Using matplotlib backend: Qt5Agg\n"
     ]
    }
   ],
   "source": [
    "import matplotlib.pyplot as plt\n",
    "import numpy as np\n",
    "\n",
    "# Plot interactivo.\n",
    "%matplotlib\n",
    "\n",
    "# Plot in line\n",
    "#%matplotlib inline"
   ]
  },
  {
   "cell_type": "markdown",
   "metadata": {},
   "source": [
    "## Datos de entrada"
   ]
  },
  {
   "cell_type": "markdown",
   "metadata": {},
   "source": [
    "### Municipio"
   ]
  },
  {
   "cell_type": "markdown",
   "metadata": {},
   "source": [
    "Muelle Ingeniero Juan Gonzalo en el Puerto Exterior de Huelva (Palos de la Frontera)"
   ]
  },
  {
   "cell_type": "markdown",
   "metadata": {},
   "source": [
    "### Periodo propio del oscilador $T$"
   ]
  },
  {
   "cell_type": "code",
   "execution_count": 2,
   "metadata": {},
   "outputs": [],
   "source": [
    "T = np.linspace(0, 4, 401)  # [s]."
   ]
  },
  {
   "cell_type": "markdown",
   "metadata": {},
   "source": [
    "### Coeficiente de contribución $K$"
   ]
  },
  {
   "cell_type": "code",
   "execution_count": 3,
   "metadata": {},
   "outputs": [],
   "source": [
    "K = 1.3"
   ]
  },
  {
   "cell_type": "markdown",
   "metadata": {},
   "source": [
    "### Coeficiente del terreno $C$"
   ]
  },
  {
   "cell_type": "code",
   "execution_count": 4,
   "metadata": {},
   "outputs": [],
   "source": [
    "C = 1.6"
   ]
  },
  {
   "cell_type": "markdown",
   "metadata": {},
   "source": [
    "### Periodo característico del espectro de respuesta $T_A$"
   ]
  },
  {
   "cell_type": "code",
   "execution_count": 5,
   "metadata": {},
   "outputs": [],
   "source": [
    "TA = K * C / 10  # [s]"
   ]
  },
  {
   "cell_type": "markdown",
   "metadata": {},
   "source": [
    "### Periodo característico del espectro de respuesta $T_B$"
   ]
  },
  {
   "cell_type": "code",
   "execution_count": 6,
   "metadata": {},
   "outputs": [],
   "source": [
    "TB = K * C / 2.5  # [s]"
   ]
  },
  {
   "cell_type": "markdown",
   "metadata": {},
   "source": [
    "## Espectro de respuesta elástica $\\alpha(T)$"
   ]
  },
  {
   "cell_type": "code",
   "execution_count": 7,
   "metadata": {},
   "outputs": [],
   "source": [
    "def espectro_respuesta_elastica():\n",
    "    \"\"\"NCSE-02 apartado 2.3\"\"\"\n",
    "    alfa = []\n",
    "    for t in T:\n",
    "        if t < TA:\n",
    "            a = 1 + 1.5 * t / TA\n",
    "        elif t <= TB:\n",
    "            a = 2.5\n",
    "        elif t > TB:\n",
    "            a = K * C / t\n",
    "        alfa.append(a)\n",
    "    return alfa"
   ]
  },
  {
   "cell_type": "code",
   "execution_count": 8,
   "metadata": {},
   "outputs": [],
   "source": [
    "alfa_T = espectro_respuesta_elastica()"
   ]
  },
  {
   "cell_type": "markdown",
   "metadata": {},
   "source": [
    "## Gráfica"
   ]
  },
  {
   "cell_type": "code",
   "execution_count": 9,
   "metadata": {},
   "outputs": [],
   "source": [
    "plt.style.use('seaborn-whitegrid')\n",
    "fig = plt.figure()\n",
    "ax = plt.axes()\n",
    "x = T\n",
    "y = alfa_T\n",
    "xlim=[0, max(T)]\n",
    "ylim=[0, 3]\n",
    "xlabel = 'Periodo de oscilación $T$ [s]'\n",
    "ylabel = 'Espectro de respuesta elástica $\\\\alpha(T)$'\n",
    "title = 'Espectro de respuesta elástica'\n",
    "ax.plot(x, y)\n",
    "ax.set(xlim=xlim, ylim=ylim, xlabel=xlabel, ylabel=ylabel, title=title)\n",
    "#plt.savefig('grafica_espectro.png')  # Para guardar la imagen si se indica `%matplotlib inline`.\n",
    "plt.show()"
   ]
  },
  {
   "cell_type": "markdown",
   "metadata": {},
   "source": [
    "## Versión"
   ]
  },
  {
   "cell_type": "code",
   "execution_count": 10,
   "metadata": {},
   "outputs": [
    {
     "data": {
      "application/json": {
       "Software versions": [
        {
         "module": "Python",
         "version": "3.7.7 64bit [MSC v.1916 64 bit (AMD64)]"
        },
        {
         "module": "IPython",
         "version": "7.13.0"
        },
        {
         "module": "OS",
         "version": "Windows 10 10.0.18362 SP0"
        },
        {
         "module": "matplotlib",
         "version": "3.1.3"
        },
        {
         "module": "numpy",
         "version": "1.18.1"
        }
       ]
      },
      "text/html": [
       "<table><tr><th>Software</th><th>Version</th></tr><tr><td>Python</td><td>3.7.7 64bit [MSC v.1916 64 bit (AMD64)]</td></tr><tr><td>IPython</td><td>7.13.0</td></tr><tr><td>OS</td><td>Windows 10 10.0.18362 SP0</td></tr><tr><td>matplotlib</td><td>3.1.3</td></tr><tr><td>numpy</td><td>1.18.1</td></tr><tr><td colspan='2'>Thu Jul 02 09:01:54 2020 Hora de verano romance</td></tr></table>"
      ],
      "text/latex": [
       "\\begin{tabular}{|l|l|}\\hline\n",
       "{\\bf Software} & {\\bf Version} \\\\ \\hline\\hline\n",
       "Python & 3.7.7 64bit [MSC v.1916 64 bit (AMD64)] \\\\ \\hline\n",
       "IPython & 7.13.0 \\\\ \\hline\n",
       "OS & Windows 10 10.0.18362 SP0 \\\\ \\hline\n",
       "matplotlib & 3.1.3 \\\\ \\hline\n",
       "numpy & 1.18.1 \\\\ \\hline\n",
       "\\hline \\multicolumn{2}{|l|}{Thu Jul 02 09:01:54 2020 Hora de verano romance} \\\\ \\hline\n",
       "\\end{tabular}\n"
      ],
      "text/plain": [
       "Software versions\n",
       "Python 3.7.7 64bit [MSC v.1916 64 bit (AMD64)]\n",
       "IPython 7.13.0\n",
       "OS Windows 10 10.0.18362 SP0\n",
       "matplotlib 3.1.3\n",
       "numpy 1.18.1\n",
       "Thu Jul 02 09:01:54 2020 Hora de verano romance"
      ]
     },
     "execution_count": 10,
     "metadata": {},
     "output_type": "execute_result"
    }
   ],
   "source": [
    "%load_ext version_information\n",
    "%version_information matplotlib, numpy"
   ]
  },
  {
   "cell_type": "code",
   "execution_count": null,
   "metadata": {},
   "outputs": [],
   "source": []
  }
 ],
 "metadata": {
  "kernelspec": {
   "display_name": "Python 3",
   "language": "python",
   "name": "python3"
  },
  "language_info": {
   "codemirror_mode": {
    "name": "ipython",
    "version": 3
   },
   "file_extension": ".py",
   "mimetype": "text/x-python",
   "name": "python",
   "nbconvert_exporter": "python",
   "pygments_lexer": "ipython3",
   "version": "3.7.7"
  }
 },
 "nbformat": 4,
 "nbformat_minor": 4
}
